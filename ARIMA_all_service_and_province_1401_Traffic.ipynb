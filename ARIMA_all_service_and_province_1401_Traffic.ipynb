{
  "nbformat": 4,
  "nbformat_minor": 0,
  "metadata": {
    "colab": {
      "name": "ARIMA all service and province 1401 Traffic.ipynb",
      "provenance": [],
      "collapsed_sections": []
    },
    "kernelspec": {
      "name": "python3",
      "display_name": "Python 3"
    },
    "language_info": {
      "name": "python"
    }
  },
  "cells": [
    {
      "cell_type": "code",
      "execution_count": 3,
      "metadata": {
        "colab": {
          "base_uri": "https://localhost:8080/"
        },
        "id": "etSZgU0y2a19",
        "outputId": "40c73319-0f06-46ae-81c5-ec1ddaf9ff6d"
      },
      "outputs": [
        {
          "output_type": "stream",
          "name": "stdout",
          "text": [
            "/content/drive/MyDrive/time series forcasting\n"
          ]
        }
      ],
      "source": [
        "cd '/content/drive/MyDrive/time series forcasting'"
      ]
    },
    {
      "cell_type": "code",
      "source": [
        "!pip install xlsxwriter"
      ],
      "metadata": {
        "colab": {
          "base_uri": "https://localhost:8080/"
        },
        "id": "pt9QGTTk2j_a",
        "outputId": "08060680-1f80-48f0-9f66-62bf7dd21dd5"
      },
      "execution_count": 4,
      "outputs": [
        {
          "output_type": "stream",
          "name": "stdout",
          "text": [
            "Looking in indexes: https://pypi.org/simple, https://us-python.pkg.dev/colab-wheels/public/simple/\n",
            "Requirement already satisfied: xlsxwriter in /usr/local/lib/python3.7/dist-packages (3.0.3)\n"
          ]
        }
      ]
    },
    {
      "cell_type": "code",
      "source": [
        "!pip install \"statsmodels==0.11.1\""
      ],
      "metadata": {
        "colab": {
          "base_uri": "https://localhost:8080/"
        },
        "id": "dMR8trrN2mzC",
        "outputId": "d8e39ea4-5e6d-4673-e6ad-287543b76e8e"
      },
      "execution_count": 5,
      "outputs": [
        {
          "output_type": "stream",
          "name": "stdout",
          "text": [
            "Looking in indexes: https://pypi.org/simple, https://us-python.pkg.dev/colab-wheels/public/simple/\n",
            "Collecting statsmodels==0.11.1\n",
            "  Downloading statsmodels-0.11.1-cp37-cp37m-manylinux1_x86_64.whl (8.7 MB)\n",
            "\u001b[K     |████████████████████████████████| 8.7 MB 7.9 MB/s \n",
            "\u001b[?25hRequirement already satisfied: pandas>=0.21 in /usr/local/lib/python3.7/dist-packages (from statsmodels==0.11.1) (1.3.5)\n",
            "Requirement already satisfied: patsy>=0.5 in /usr/local/lib/python3.7/dist-packages (from statsmodels==0.11.1) (0.5.2)\n",
            "Requirement already satisfied: numpy>=1.14 in /usr/local/lib/python3.7/dist-packages (from statsmodels==0.11.1) (1.21.6)\n",
            "Requirement already satisfied: scipy>=1.0 in /usr/local/lib/python3.7/dist-packages (from statsmodels==0.11.1) (1.7.3)\n",
            "Requirement already satisfied: python-dateutil>=2.7.3 in /usr/local/lib/python3.7/dist-packages (from pandas>=0.21->statsmodels==0.11.1) (2.8.2)\n",
            "Requirement already satisfied: pytz>=2017.3 in /usr/local/lib/python3.7/dist-packages (from pandas>=0.21->statsmodels==0.11.1) (2022.1)\n",
            "Requirement already satisfied: six in /usr/local/lib/python3.7/dist-packages (from patsy>=0.5->statsmodels==0.11.1) (1.15.0)\n",
            "Installing collected packages: statsmodels\n",
            "  Attempting uninstall: statsmodels\n",
            "    Found existing installation: statsmodels 0.10.2\n",
            "    Uninstalling statsmodels-0.10.2:\n",
            "      Successfully uninstalled statsmodels-0.10.2\n",
            "Successfully installed statsmodels-0.11.1\n"
          ]
        }
      ]
    },
    {
      "cell_type": "code",
      "source": [
        "# grid search ARIMA parameters for time series\n",
        "import warnings\n",
        "from math import sqrt\n",
        "from pandas import read_csv\n",
        "from pandas import datetime\n",
        "from statsmodels.tsa.arima.model import ARIMA\n",
        "from sklearn.metrics import mean_squared_error\n",
        "\n",
        "# evaluate an ARIMA model for a given order (p,d,q)\n",
        "def evaluate_arima_model(X, arima_order):\n",
        "\t# prepare training dataset\n",
        "\ttrain_size = int(len(X) * 0.6)\n",
        "\ttrain, test = X[0:train_size], X[train_size:]\n",
        "\thistory = [x for x in train]\n",
        "\t# make predictions\n",
        "\tpredictions = list()\n",
        "\tfor t in range(len(test)):\n",
        "\t\tmodel = ARIMA(history, order=arima_order)\n",
        "\t\tmodel_fit = model.fit()\n",
        "\t\tyhat = model_fit.forecast()[0]\n",
        "\t\tpredictions.append(yhat)\n",
        "\t\thistory.append(test[t])\n",
        "\t# calculate out of sample error\n",
        "\trmse = sqrt(mean_squared_error(test, predictions))\n",
        "\treturn rmse\n",
        "def evaluate_models(dataset, p_values, d_values, q_values):\n",
        "\tdataset = dataset.astype('float32')\n",
        "\tbest_score, best_cfg = float(\"inf\"), None\n",
        "\tfor p in p_values:\n",
        "\t\tfor d in d_values:\n",
        "\t\t\tfor q in q_values:\n",
        "\t\t\t\torder = (p,d,q)\n",
        "\t\t\t\ttry:\n",
        "\t\t\t\t\trmse = evaluate_arima_model(dataset, order)\n",
        "\t\t\t\t\tif rmse < best_score:\n",
        "\t\t\t\t\t\tbest_score, best_cfg = rmse, order\n",
        "\t\t\t\t\tprint('ARIMA%s RMSE=%.3f' % (order,rmse))\n",
        "\t\t\t\texcept:\n",
        "\t\t\t\t\tcontinue\n",
        "\tprint('Best ARIMA%s RMSE=%.3f' % (best_cfg, best_score))\n",
        "\treturn best_cfg\n"
      ],
      "metadata": {
        "colab": {
          "base_uri": "https://localhost:8080/"
        },
        "id": "WIPUF_tF2o6h",
        "outputId": "6c5348a8-0868-4548-bfe1-e88afdabbe96"
      },
      "execution_count": 6,
      "outputs": [
        {
          "output_type": "stream",
          "name": "stderr",
          "text": [
            "/usr/local/lib/python3.7/dist-packages/ipykernel_launcher.py:5: FutureWarning: The pandas.datetime class is deprecated and will be removed from pandas in a future version. Import from datetime module instead.\n",
            "  \"\"\"\n"
          ]
        }
      ]
    },
    {
      "cell_type": "code",
      "source": [
        "import numpy as np\n",
        "from openpyxl import load_workbook\n",
        "from matplotlib import pyplot\n",
        "workbook = load_workbook(filename='traffic_income_92_1400_Tehran (2).xlsx')\n",
        "sheets = workbook.sheetnames\n",
        "\n",
        "import xlsxwriter\n",
        "Result_traffic = xlsxwriter.Workbook('Result_Final_traffic.xlsx')\n",
        "worksheet = Result_traffic.add_worksheet()\n",
        "\n",
        "service =[3,4,5,6,7,8,10]\n",
        "for i in range(32):\n",
        "  for j in service:\n",
        "    Dataset = []\n",
        "    for k in range(9):\n",
        "      Dataset.append(workbook[sheets[k]].cell(row=i+3, column=j).value)\n",
        "    X = np.array(Dataset)\n",
        "    # evaluate parameters\n",
        "    p_values = [0, 1, 2, 4, 6, 8, 10, 12]\n",
        "    d_values = range(0, 3)\n",
        "    q_values = range(0, 3)\n",
        "    warnings.filterwarnings(\"ignore\")\n",
        "    best_cfg = evaluate_models(X, p_values, d_values, q_values)\n",
        "    ###############################################################\n",
        "    train_size = int(len(X) * 0.6)\n",
        "    train, test = X[0:train_size], X[train_size:]\n",
        "    history = [x for x in train]\n",
        "    predictions = list()\n",
        "    # walk-forward validation\n",
        "    try:\n",
        "      for t in range(len(test)):\n",
        "        model = ARIMA(history, order=best_cfg)\n",
        "        model_fit = model.fit()\n",
        "        output = model_fit.forecast()\n",
        "        yhat = output[0]\n",
        "        predictions.append(yhat)\n",
        "        obs = test[t]\n",
        "        history.append(obs)\n",
        "        print('predicted=%f, expected=%f' % (yhat, obs))\n",
        "      # evaluate forecasts\n",
        "      rmse = sqrt(mean_squared_error(test, predictions))\n",
        "      print('Test RMSE: %.3f' % rmse)\n",
        "      # plot forecasts against actual outcomes\n",
        "      pyplot.plot(test)\n",
        "      pyplot.plot(predictions, color='red')\n",
        "      pyplot.show()\n",
        "      model = ARIMA(history, order=best_cfg)\n",
        "      try:   \n",
        "        model_fit = model.fit()\n",
        "        output = model_fit.forecast()\n",
        "        yhat = output[0]\n",
        "        predictions.append(yhat)\n",
        "        worksheet.write(i, service.index(j), predictions[-1])\n",
        "        print(\"The one step-ahead prediction is:\",predictions[-1])\n",
        "      except:\n",
        "        continue\n",
        "    except:\n",
        "      continue\n",
        "Result_traffic.close()"
      ],
      "metadata": {
        "colab": {
          "base_uri": "https://localhost:8080/"
        },
        "id": "TeofgFFL2uM_",
        "outputId": "38bfc154-f7b2-430a-ee73-ea544406ed77"
      },
      "execution_count": null,
      "outputs": [
        {
          "output_type": "stream",
          "name": "stdout",
          "text": [
            "ARIMA(0, 0, 0) RMSE=1492439.998\n",
            "ARIMA(0, 0, 1) RMSE=1249617.831\n",
            "ARIMA(0, 1, 0) RMSE=932340.595\n",
            "ARIMA(0, 2, 0) RMSE=540920.803\n",
            "ARIMA(0, 2, 2) RMSE=529601.939\n",
            "ARIMA(1, 0, 0) RMSE=1232405.956\n",
            "ARIMA(1, 0, 1) RMSE=1491990.675\n",
            "ARIMA(1, 1, 0) RMSE=883835.068\n",
            "ARIMA(1, 2, 0) RMSE=535853.470\n",
            "ARIMA(1, 2, 2) RMSE=547320.072\n",
            "ARIMA(2, 0, 0) RMSE=919393.642\n",
            "ARIMA(2, 0, 1) RMSE=1192499.550\n",
            "ARIMA(2, 1, 0) RMSE=912354.337\n",
            "ARIMA(2, 2, 2) RMSE=548767.701\n",
            "ARIMA(4, 2, 0) RMSE=624678.289\n",
            "ARIMA(4, 2, 2) RMSE=587843.649\n",
            "ARIMA(6, 0, 0) RMSE=698023.309\n",
            "ARIMA(6, 2, 0) RMSE=698845.326\n",
            "ARIMA(6, 2, 1) RMSE=731929.365\n",
            "ARIMA(6, 2, 2) RMSE=732618.187\n",
            "ARIMA(8, 0, 0) RMSE=1298563.924\n",
            "ARIMA(8, 0, 1) RMSE=1310454.241\n",
            "ARIMA(8, 0, 2) RMSE=1322771.264\n",
            "ARIMA(8, 1, 0) RMSE=912528.029\n",
            "ARIMA(8, 1, 1) RMSE=913951.923\n",
            "ARIMA(8, 1, 2) RMSE=915755.929\n",
            "ARIMA(8, 2, 0) RMSE=623927.555\n",
            "ARIMA(8, 2, 1) RMSE=630378.325\n",
            "ARIMA(8, 2, 2) RMSE=636107.743\n",
            "ARIMA(10, 0, 0) RMSE=1298563.924\n",
            "ARIMA(10, 0, 1) RMSE=1310454.278\n",
            "ARIMA(10, 0, 2) RMSE=1322766.830\n",
            "ARIMA(10, 1, 0) RMSE=912528.029\n",
            "ARIMA(10, 1, 1) RMSE=913951.901\n",
            "ARIMA(10, 1, 2) RMSE=915749.885\n",
            "ARIMA(10, 2, 0) RMSE=623927.558\n",
            "ARIMA(10, 2, 1) RMSE=630372.323\n",
            "ARIMA(10, 2, 2) RMSE=636140.809\n",
            "ARIMA(12, 0, 0) RMSE=1298563.924\n",
            "ARIMA(12, 0, 1) RMSE=1310454.278\n",
            "ARIMA(12, 0, 2) RMSE=1322766.830\n",
            "ARIMA(12, 1, 0) RMSE=912528.029\n",
            "ARIMA(12, 1, 1) RMSE=913951.904\n",
            "ARIMA(12, 1, 2) RMSE=915749.646\n",
            "ARIMA(12, 2, 0) RMSE=623927.563\n",
            "ARIMA(12, 2, 1) RMSE=630378.090\n"
          ]
        }
      ]
    }
  ]
}